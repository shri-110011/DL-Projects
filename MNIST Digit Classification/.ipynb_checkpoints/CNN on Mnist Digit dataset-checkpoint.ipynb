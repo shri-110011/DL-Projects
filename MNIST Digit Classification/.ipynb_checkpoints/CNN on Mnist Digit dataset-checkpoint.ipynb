{
 "cells": [
  {
   "cell_type": "code",
   "execution_count": null,
   "metadata": {},
   "outputs": [],
   "source": [
    "'''\n",
    "    Author: A.Shrikant\n",
    "'''"
   ]
  },
  {
   "cell_type": "code",
   "execution_count": 1,
   "metadata": {
    "id": "HuqOXhKBaKU2"
   },
   "outputs": [],
   "source": [
    "# Basic libraries\n",
    "import numpy as np\n",
    "import pandas as pd\n",
    "import matplotlib.pyplot as plt\n",
    "import seaborn as sns\n",
    "\n",
    "# Importing the datasets and the DNN libraries\n",
    "import keras\n",
    "from keras import datasets\n",
    "from keras.layers import Conv2D, MaxPooling2D, Flatten, Dense\n",
    "from keras.models import Sequential"
   ]
  },
  {
   "cell_type": "code",
   "execution_count": 2,
   "metadata": {
    "id": "RSaCiUiH-rEz"
   },
   "outputs": [],
   "source": [
    "(x_train, y_train), (x_test, y_test) = datasets.mnist.load_data()"
   ]
  },
  {
   "cell_type": "code",
   "execution_count": 3,
   "metadata": {
    "colab": {
     "base_uri": "https://localhost:8080/"
    },
    "id": "swviAbMs_A8h",
    "outputId": "c93259c9-9e7a-4624-96a9-6992b52311f5"
   },
   "outputs": [
    {
     "name": "stdout",
     "output_type": "stream",
     "text": [
      "(60000, 28, 28)\n",
      "(60000,)\n",
      "(10000, 28, 28)\n",
      "(10000,)\n"
     ]
    }
   ],
   "source": [
    "# data shape\n",
    "print(x_train.shape)\n",
    "print(y_train.shape)\n",
    "print(x_test.shape)\n",
    "print(y_test.shape)"
   ]
  },
  {
   "cell_type": "code",
   "execution_count": 4,
   "metadata": {
    "colab": {
     "base_uri": "https://localhost:8080/"
    },
    "id": "cVZUy1jB_GIx",
    "outputId": "0e6851d7-bca7-450a-f698-1715aaf617fd"
   },
   "outputs": [
    {
     "name": "stdout",
     "output_type": "stream",
     "text": [
      "x_train_min: 0\n",
      "x_train_max: 255\n"
     ]
    }
   ],
   "source": [
    "x_train_min = x_train.min()\n",
    "x_train_max = x_train.max()\n",
    "\n",
    "print(f'x_train_min: {x_train_min}')\n",
    "print(f'x_train_max: {x_train_max}')"
   ]
  },
  {
   "cell_type": "code",
   "execution_count": 5,
   "metadata": {
    "id": "EjqbS7NW_IZh"
   },
   "outputs": [],
   "source": [
    "# Scale the data.\n",
    "x_train = x_train/255.0\n",
    "x_test = x_test/255.0"
   ]
  },
  {
   "cell_type": "code",
   "execution_count": 6,
   "metadata": {
    "colab": {
     "base_uri": "https://localhost:8080/"
    },
    "id": "sm1nx5Ce_KeB",
    "outputId": "6ec417e8-6836-4a6c-8b81-426dbe6f0fd0"
   },
   "outputs": [
    {
     "name": "stdout",
     "output_type": "stream",
     "text": [
      "x_train_min: 0.0\n",
      "x_train_max: 1.0\n"
     ]
    }
   ],
   "source": [
    "x_train_min = x_train.min()\n",
    "x_train_max = x_train.max()\n",
    "\n",
    "print(f'x_train_min: {x_train_min}')\n",
    "print(f'x_train_max: {x_train_max}')"
   ]
  },
  {
   "cell_type": "code",
   "execution_count": 7,
   "metadata": {
    "colab": {
     "base_uri": "https://localhost:8080/"
    },
    "id": "gseTb4xPYzWX",
    "outputId": "3a413699-6f10-43d3-f2dd-b13a15f84353"
   },
   "outputs": [
    {
     "data": {
      "text/plain": [
       "(28, 28)"
      ]
     },
     "execution_count": 7,
     "metadata": {},
     "output_type": "execute_result"
    }
   ],
   "source": [
    "x_train[0].shape"
   ]
  },
  {
   "cell_type": "code",
   "execution_count": 8,
   "metadata": {
    "colab": {
     "base_uri": "https://localhost:8080/"
    },
    "id": "f21dMrym_Mfh",
    "outputId": "015ab5df-4f5f-4482-fa81-4a5b43fe4fbd"
   },
   "outputs": [
    {
     "name": "stdout",
     "output_type": "stream",
     "text": [
      "[0 1 2 3 4 5 6 7 8 9]\n"
     ]
    }
   ],
   "source": [
    "# Unique values in target variable.\n",
    "print(np.unique(y_train))"
   ]
  },
  {
   "cell_type": "code",
   "execution_count": 9,
   "metadata": {
    "id": "fpeuLtpt_f1Z"
   },
   "outputs": [],
   "source": [
    "from matplotlib import colormaps"
   ]
  },
  {
   "cell_type": "code",
   "execution_count": 10,
   "metadata": {
    "colab": {
     "base_uri": "https://localhost:8080/",
     "height": 35
    },
    "id": "03DyMObT_PID",
    "outputId": "077a5d4c-d00d-4a6b-ed0e-e831d99bb849"
   },
   "outputs": [
    {
     "data": {
      "application/vnd.google.colaboratory.intrinsic+json": {
       "type": "string"
      },
      "text/plain": [
       "'viridis'"
      ]
     },
     "execution_count": 10,
     "metadata": {},
     "output_type": "execute_result"
    }
   ],
   "source": [
    "# plt.rcParams is a dictionary-like object in Matplotlib that stores the default\n",
    "# configuration parameters for the Matplotlib library. It contains various\n",
    "# settings related to the appearance and behavior of plots.\n",
    "\n",
    "# The colormap is a dictionary which maps numbers to colors.\n",
    "plt.rcParams['image.cmap']"
   ]
  },
  {
   "cell_type": "code",
   "execution_count": 11,
   "metadata": {
    "colab": {
     "base_uri": "https://localhost:8080/",
     "height": 121
    },
    "id": "-nwcLYt9_UZy",
    "outputId": "4bf44cb2-ec30-49e0-b48a-1097b88660a7"
   },
   "outputs": [
    {
     "data": {
      "image/png": "[encoded data removed]",
      "text/html": [
       "<div style=\"vertical-align: middle;\"><strong>viridis</strong> </div><div class=\"cmap\"><img alt=\"viridis colormap\" title=\"viridis\" style=\"border: 1px solid #555;\" src=\"data:image/png;base64,iVBORw0KGgoAAAANSUhEUgAAAgAAAABACAYAAABsv8+/AAAAFnRFWHRUaXRsZQB2aXJpZGlzIGNvbG9ybWFwrE0mCwAAABx0RVh0RGVzY3JpcHRpb24AdmlyaWRpcyBjb2xvcm1hcAtjl3IAAAAwdEVYdEF1dGhvcgBNYXRwbG90bGliIHYzLjcuMSwgaHR0cHM6Ly9tYXRwbG90bGliLm9yZyqv+E0AAAAydEVYdFNvZnR3YXJlAE1hdHBsb3RsaWIgdjMuNy4xLCBodHRwczovL21hdHBsb3RsaWIub3JnBAlnagAAAiJJREFUeJzt1kGSmzAURdEv2FqWkP0vJfQgMhQCGceV2Ttn4pL0EVQPum771X5vVVXVWv39XfrPeV193V5zS98f1sf5/fPjey73zu6/3Hv/uz2cz57f9vP68rxO9+/zre7nhvvG+et6vH92bw3PDfcsD+eX59+/53n96f3362/f87/vf5yr93Of72/fPV9P89tX3zGeH3OT8/07Zs+/32+TuXZZD8/VODf8W5uuH/b7vctlfuv7NazH8/t7ZnP7bz2cD3NL+/Ph3Hl+/efz83vWun/vuL++nquH9eu9w/uu6/vvOO49f/8xf77vOj+8b7Y/fMfse9ca/y7nv+d62a++X+f1vt+G/b7u+/u6TxzzS//tc2053QMABBEAABBIAABAIAEAAIEEAAAEEgAAEEgAAEAgAQAAgQQAAAQSAAAQSAAAQCABAACBBAAABBIAABBIAABAIAEAAIEEAAAEEgAAEEgAAEAgAQAAgQQAAAQSAAAQSAAAQCABAACBBAAABBIAABBIAABAIAEAAIEEAAAEEgAAEEgAAEAgAQAAgQQAAAQSAAAQSAAAQCABAACBBAAABBIAABBIAABAIAEAAIEEAAAEEgAAEEgAAEAgAQAAgQQAAAQSAAAQSAAAQCABAACBBAAABBIAABBIAABAIAEAAIEEAAAEEgAAEEgAAEAgAQAAgQQAAAQSAAAQSAAAQCABAACBBAAABBIAABBIAABAoB9ucImHxcKZtAAAAABJRU5ErkJggg==\"></div><div style=\"vertical-align: middle; max-width: 514px; display: flex; justify-content: space-between;\"><div style=\"float: left;\"><div title=\"#440154ff\" style=\"display: inline-block; width: 1em; height: 1em; margin: 0; vertical-align: middle; border: 1px solid #555; background-color: #440154ff;\"></div> under</div><div style=\"margin: 0 auto; display: inline-block;\">bad <div title=\"#00000000\" style=\"display: inline-block; width: 1em; height: 1em; margin: 0; vertical-align: middle; border: 1px solid #555; background-color: #00000000;\"></div></div><div style=\"float: right;\">over <div title=\"#fde725ff\" style=\"display: inline-block; width: 1em; height: 1em; margin: 0; vertical-align: middle; border: 1px solid #555; background-color: #fde725ff;\"></div></div>"
      ],
      "text/plain": [
       "<matplotlib.colors.ListedColormap at 0x7ff8db97ed10>"
      ]
     },
     "execution_count": 11,
     "metadata": {},
     "output_type": "execute_result"
    }
   ],
   "source": [
    "# Get the default colormap\n",
    "default_cmap = colormaps[plt.rcParams['image.cmap']]\n",
    "default_cmap"
   ]
  },
  {
   "cell_type": "code",
   "execution_count": 12,
   "metadata": {
    "id": "F-olUQf__WqG"
   },
   "outputs": [],
   "source": [
    "# plt.imshow(X, cmap=None)\n",
    "\n",
    "# X is a multidimensional array representing image data.\n",
    "\n",
    "# When image has shape (M,N,3) or (M,N,4), the values in image are interpreted\n",
    "# as RGB or RGBA values. In this case the cmap is ignored.\n",
    "# cmap : str or ~matplotlib.colors.Colormap, default: image.cmap\n",
    "\n",
    "# https://stackoverflow.com/questions/25625952/matplotlib-what-is-the-function-of-cmap-in-imshow\n",
    "\n",
    "def show_img(idx):\n",
    "  plt.figure(figsize=(20, 2))\n",
    "  plt.imshow(x_train[idx, :], cmap='gray')\n",
    "  plt.xlabel(f'Actual label: {y_train[idx]}')\n",
    "  plt.colorbar()\n",
    "  plt.show()"
   ]
  },
  {
   "cell_type": "code",
   "execution_count": 13,
   "metadata": {
    "colab": {
     "base_uri": "https://localhost:8080/",
     "height": 239
    },
    "id": "cr0rv6J9_kHT",
    "outputId": "75bd1192-3513-44dd-f409-7713c96172b0"
   },
   "outputs": [
    {
     "data": {
      "image/png": "[encoded data removed]",
      "text/plain": [
       "<Figure size 2000x200 with 2 Axes>"
      ]
     },
     "metadata": {},
     "output_type": "display_data"
    }
   ],
   "source": [
    "show_img(0)"
   ]
  },
  {
   "cell_type": "code",
   "execution_count": 14,
   "metadata": {
    "colab": {
     "base_uri": "https://localhost:8080/",
     "height": 237
    },
    "id": "4MX0dK_k_lsh",
    "outputId": "aa76337f-3d37-44ee-e1d5-5d8e5aec3eaf"
   },
   "outputs": [
    {
     "data": {
      "image/png": "[encoded data removed]",
      "text/plain": [
       "<Figure size 2000x200 with 2 Axes>"
      ]
     },
     "metadata": {},
     "output_type": "display_data"
    }
   ],
   "source": [
    "show_img(10)"
   ]
  },
  {
   "cell_type": "code",
   "execution_count": 15,
   "metadata": {
    "colab": {
     "base_uri": "https://localhost:8080/",
     "height": 239
    },
    "id": "ji461EtY_oLB",
    "outputId": "656e77a9-385e-4b8f-d49a-242d9242bd15"
   },
   "outputs": [
    {
     "data": {
      "image/png": "[encoded data removed]",
      "text/plain": [
       "<Figure size 2000x200 with 2 Axes>"
      ]
     },
     "metadata": {},
     "output_type": "display_data"
    }
   ],
   "source": [
    "show_img(20)"
   ]
  },
  {
   "cell_type": "code",
   "execution_count": 16,
   "metadata": {
    "colab": {
     "base_uri": "https://localhost:8080/",
     "height": 239
    },
    "id": "2Sii-waj_qTh",
    "outputId": "4c7d7602-b852-4b7e-f1ee-fd24ead08187"
   },
   "outputs": [
    {
     "data": {
      "image/png": "[encoded data removed]",
      "text/plain": [
       "<Figure size 2000x200 with 2 Axes>"
      ]
     },
     "metadata": {},
     "output_type": "display_data"
    }
   ],
   "source": [
    "show_img(40)"
   ]
  },
  {
   "cell_type": "markdown",
   "metadata": {
    "id": "_jo_m5p2_w4y"
   },
   "source": [
    "**Building the CNN based model:**"
   ]
  },
  {
   "cell_type": "code",
   "execution_count": 17,
   "metadata": {
    "id": "RCepAKwN_tDi"
   },
   "outputs": [],
   "source": [
    "# Model Building\n",
    "\n",
    "model = Sequential()\n",
    "\n",
    "# For Conv2D():\n",
    "\n",
    "# kernel_size is the filter size(k). Use odd number of filters in convolution.\n",
    "# So that when padding is 'same' the value p comes out as a whole number.\n",
    "\n",
    "# padding='valid' by default this means no padding\n",
    "# padding='same' means that the padding is automatically calculated.\n",
    "# When strides = 1 the output (feature map) has the same spatial dimensions as the input\n",
    "# image using the formula p = (k-1)/2.\n",
    "# When strides > 1 the output (feature map) has the following spatial dimensions:\n",
    "# output_spatial_shape[i] = ceil(input_spatial_shape[i] / strides[i])\n",
    "\n",
    "# strides=(1, 1) by default.\n",
    "\n",
    "# input_shape=(batchSize, height, width, channels)\n",
    "# Specifying the batchSize here in input_shape won't have any effect. The\n",
    "# recommended place to specify the batchSize is the model.fit() method.\n",
    "model.add(Conv2D(filters=16, kernel_size=(3,3), strides=(1, 1), padding='valid', activation='relu', input_shape=(28,28,1)))\n",
    "\n",
    "# For MaxPooling2D():\n",
    "\n",
    "# pool_size=(2, 2) by default\n",
    "# strides=(2, 2) by default.\n",
    "# output_shape = math.floor((input_shape - pool_size) / strides) + 1\n",
    "model.add(MaxPooling2D((2,2)))\n",
    "\n",
    "model.add(Conv2D(filters=16, kernel_size=(3,3), strides=(1, 1), padding='valid', activation='relu'))\n",
    "\n",
    "model.add(MaxPooling2D((2,2)))\n",
    "\n",
    "# Flatten layer in Keras converts a multi-dimensional array into a 1D array.\n",
    "model.add(Flatten())\n",
    "\n",
    "model.add(Dense(units=16, activation='relu'))\n",
    "\n",
    "model.add(Dense(units=16, activation='relu'))\n",
    "\n",
    "model.add(Dense(units=10, activation='softmax'))\n",
    "\n",
    "# Model compilation\n",
    "\n",
    "# keras.metrics.SparseCategoricalAccuracy(): Calculates how often predictions\n",
    "# match integer labels.\n",
    "# When loss='sparse_categorical_crossentropy', 'accuracy' metric works same\n",
    "# as keras.metrics.SparseCategoricalAccuracy()\n",
    "model.compile(optimizer='adam', loss='sparse_categorical_crossentropy',\n",
    "              metrics=['accuracy'])"
   ]
  },
  {
   "cell_type": "code",
   "execution_count": 18,
   "metadata": {
    "colab": {
     "base_uri": "https://localhost:8080/"
    },
    "id": "BRR56hTfUSqi",
    "outputId": "219a1b4f-2064-462b-deaf-70d35a1ea4b4"
   },
   "outputs": [
    {
     "name": "stdout",
     "output_type": "stream",
     "text": [
      "Model: \"sequential\"\n",
      "_________________________________________________________________\n",
      " Layer (type)                Output Shape              Param #   \n",
      "=================================================================\n",
      " conv2d (Conv2D)             (None, 26, 26, 16)        160       \n",
      "                                                                 \n",
      " max_pooling2d (MaxPooling2  (None, 13, 13, 16)        0         \n",
      " D)                                                              \n",
      "                                                                 \n",
      " conv2d_1 (Conv2D)           (None, 11, 11, 16)        2320      \n",
      "                                                                 \n",
      " max_pooling2d_1 (MaxPoolin  (None, 5, 5, 16)          0         \n",
      " g2D)                                                            \n",
      "                                                                 \n",
      " flatten (Flatten)           (None, 400)               0         \n",
      "                                                                 \n",
      " dense (Dense)               (None, 16)                6416      \n",
      "                                                                 \n",
      " dense_1 (Dense)             (None, 16)                272       \n",
      "                                                                 \n",
      " dense_2 (Dense)             (None, 10)                170       \n",
      "                                                                 \n",
      "=================================================================\n",
      "Total params: 9338 (36.48 KB)\n",
      "Trainable params: 9338 (36.48 KB)\n",
      "Non-trainable params: 0 (0.00 Byte)\n",
      "_________________________________________________________________\n"
     ]
    }
   ],
   "source": [
    "# What does None in the Output Shape column of model.summary() mean?\n",
    "\n",
    "# The first dimension in Output Shape tuple is the batch size. None usually\n",
    "# means that the size of that dimension is not fixed and may vary based on the\n",
    "# input data.\n",
    "\n",
    "# https://stackoverflow.com/questions/47240348/what-is-the-meaning-of-the-none-in-model-summary-of-keras\n",
    "\n",
    "# Output shape of the convolution layer = (n-k+2p)/s+1\n",
    "# Number of paramaters associated with the convolution layer = (k*k+1) * #filters\n",
    "\n",
    "# Output shape of the max-pooling layer = (n-k)/s+1\n",
    "\n",
    "model.summary()"
   ]
  },
  {
   "cell_type": "code",
   "execution_count": 19,
   "metadata": {
    "colab": {
     "base_uri": "https://localhost:8080/"
    },
    "id": "jAvLVSviOUnn",
    "outputId": "c5c49707-f745-4a8d-e840-ba00de020a27"
   },
   "outputs": [
    {
     "name": "stdout",
     "output_type": "stream",
     "text": [
      "Epoch 1/10\n",
      "1500/1500 [==============================] - 38s 23ms/step - loss: 0.3685 - accuracy: 0.8830 - val_loss: 0.1363 - val_accuracy: 0.9592\n",
      "Epoch 2/10\n",
      "1500/1500 [==============================] - 26s 18ms/step - loss: 0.1151 - accuracy: 0.9646 - val_loss: 0.0934 - val_accuracy: 0.9730\n",
      "Epoch 3/10\n",
      "1500/1500 [==============================] - 28s 18ms/step - loss: 0.0847 - accuracy: 0.9741 - val_loss: 0.0769 - val_accuracy: 0.9778\n",
      "Epoch 4/10\n",
      "1500/1500 [==============================] - 26s 18ms/step - loss: 0.0671 - accuracy: 0.9794 - val_loss: 0.0718 - val_accuracy: 0.9799\n",
      "Epoch 5/10\n",
      "1500/1500 [==============================] - 26s 17ms/step - loss: 0.0562 - accuracy: 0.9829 - val_loss: 0.0619 - val_accuracy: 0.9822\n",
      "Epoch 6/10\n",
      "1500/1500 [==============================] - 27s 18ms/step - loss: 0.0488 - accuracy: 0.9848 - val_loss: 0.0614 - val_accuracy: 0.9828\n",
      "Epoch 7/10\n",
      "1500/1500 [==============================] - 27s 18ms/step - loss: 0.0430 - accuracy: 0.9864 - val_loss: 0.0611 - val_accuracy: 0.9834\n",
      "Epoch 8/10\n",
      "1500/1500 [==============================] - 27s 18ms/step - loss: 0.0386 - accuracy: 0.9876 - val_loss: 0.0509 - val_accuracy: 0.9858\n",
      "Epoch 9/10\n",
      "1500/1500 [==============================] - 37s 25ms/step - loss: 0.0334 - accuracy: 0.9895 - val_loss: 0.0474 - val_accuracy: 0.9861\n",
      "Epoch 10/10\n",
      "1500/1500 [==============================] - 28s 19ms/step - loss: 0.0306 - accuracy: 0.9902 - val_loss: 0.0521 - val_accuracy: 0.9852\n"
     ]
    }
   ],
   "source": [
    "history = model.fit(x_train, y_train, epochs=10, validation_split=0.2)"
   ]
  },
  {
   "cell_type": "markdown",
   "metadata": {
    "id": "_9Yn1x80JirL"
   },
   "source": [
    "### Evaluating the model:"
   ]
  },
  {
   "cell_type": "code",
   "execution_count": 20,
   "metadata": {
    "colab": {
     "base_uri": "https://localhost:8080/"
    },
    "id": "SyR4zKl-Rfuo",
    "outputId": "4b5be3a6-7940-4af2-e3e5-30cda48aa07b"
   },
   "outputs": [
    {
     "name": "stdout",
     "output_type": "stream",
     "text": [
      "313/313 [==============================] - 3s 10ms/step - loss: 0.0432 - accuracy: 0.9862\n"
     ]
    },
    {
     "data": {
      "text/plain": [
       "[0.04315326362848282, 0.9861999750137329]"
      ]
     },
     "execution_count": 20,
     "metadata": {},
     "output_type": "execute_result"
    }
   ],
   "source": [
    "# The model.evaluate(x_test, y_test) function uses the trained neural network to\n",
    "# make predictions on the input data x_test and then compares those predictions\n",
    "# with the true labels y_test to calculate the loss and any specified metrics.\n",
    "\n",
    "model.evaluate(x_test, y_test)"
   ]
  },
  {
   "cell_type": "code",
   "execution_count": 21,
   "metadata": {
    "colab": {
     "base_uri": "https://localhost:8080/",
     "height": 465
    },
    "id": "PHArJ1_jO76r",
    "outputId": "709921e9-53e4-44a4-dc04-d133d4a15433"
   },
   "outputs": [
    {
     "data": {
      "image/png": "[encoded data removed]",
      "text/plain": [
       "<Figure size 500x500 with 1 Axes>"
      ]
     },
     "metadata": {},
     "output_type": "display_data"
    }
   ],
   "source": [
    "plt.figure(figsize=(5, 5))\n",
    "\n",
    "plt.plot(history.history['accuracy'])\n",
    "plt.plot(history.history['val_accuracy'])\n",
    "plt.ylabel('accuracy')\n",
    "plt.xlabel('epochs')\n",
    "plt.legend(['traning', 'testing'])\n",
    "\n",
    "plt.show()"
   ]
  },
  {
   "cell_type": "code",
   "execution_count": 22,
   "metadata": {
    "colab": {
     "base_uri": "https://localhost:8080/"
    },
    "id": "aq2UX1dXS-Q4",
    "outputId": "433580f5-bff5-438b-cee0-090ab8e9b4c7"
   },
   "outputs": [
    {
     "name": "stdout",
     "output_type": "stream",
     "text": [
      "313/313 [==============================] - 2s 5ms/step\n"
     ]
    }
   ],
   "source": [
    "y_pred = model.predict(x_test)"
   ]
  },
  {
   "cell_type": "code",
   "execution_count": 23,
   "metadata": {
    "colab": {
     "base_uri": "https://localhost:8080/"
    },
    "id": "1zsFS9PhTF9Y",
    "outputId": "77a8c26c-5964-4cfc-f9b5-532adfe635b9"
   },
   "outputs": [
    {
     "data": {
      "text/plain": [
       "(10000, 10)"
      ]
     },
     "execution_count": 23,
     "metadata": {},
     "output_type": "execute_result"
    }
   ],
   "source": [
    "y_pred.shape"
   ]
  },
  {
   "cell_type": "code",
   "execution_count": 24,
   "metadata": {
    "colab": {
     "base_uri": "https://localhost:8080/"
    },
    "id": "_b49XM6YTJS5",
    "outputId": "4ae8e77e-9d87-4fe5-aa79-51e7c681d0f5"
   },
   "outputs": [
    {
     "data": {
      "text/plain": [
       "[7, 2, 1, 0, 4, 1, 4, 9, 5, 9]"
      ]
     },
     "execution_count": 24,
     "metadata": {},
     "output_type": "execute_result"
    }
   ],
   "source": [
    "# First 10 data points predictions.\n",
    "y_pred_class = [np.argmax(element) for element in y_pred]\n",
    "y_pred_class[:10]"
   ]
  },
  {
   "cell_type": "code",
   "execution_count": 25,
   "metadata": {
    "colab": {
     "base_uri": "https://localhost:8080/"
    },
    "id": "Ppm_x29_TbN5",
    "outputId": "20485345-39a8-46b1-e6ac-c4219217aa3c"
   },
   "outputs": [
    {
     "data": {
      "text/plain": [
       "array([7, 2, 1, 0, 4, 1, 4, 9, 5, 9], dtype=uint8)"
      ]
     },
     "execution_count": 25,
     "metadata": {},
     "output_type": "execute_result"
    }
   ],
   "source": [
    "y_test[:10]"
   ]
  },
  {
   "cell_type": "code",
   "execution_count": 26,
   "metadata": {
    "id": "9mlQEgmWTdYJ"
   },
   "outputs": [],
   "source": [
    "def act_to_pred(val):\n",
    "  plt.figure(figsize=(20, 2))\n",
    "  plt.imshow(x_test[val, :])\n",
    "  plt.xlabel(f' Actual label: {y_test[val]}')\n",
    "  plt.show()\n",
    "  print('The predicted image label is:',y_pred_class[val])"
   ]
  },
  {
   "cell_type": "code",
   "execution_count": 27,
   "metadata": {
    "colab": {
     "base_uri": "https://localhost:8080/",
     "height": 255
    },
    "id": "knBxcZL6TpmZ",
    "outputId": "1ecd9f3c-399f-4275-aaa0-a33963073634"
   },
   "outputs": [
    {
     "data": {
      "image/png": "[encoded data removed]",
      "text/plain": [
       "<Figure size 2000x200 with 1 Axes>"
      ]
     },
     "metadata": {},
     "output_type": "display_data"
    },
    {
     "name": "stdout",
     "output_type": "stream",
     "text": [
      "The predicted image label is: 7\n"
     ]
    }
   ],
   "source": [
    "act_to_pred(0)"
   ]
  },
  {
   "cell_type": "code",
   "execution_count": 28,
   "metadata": {
    "colab": {
     "base_uri": "https://localhost:8080/",
     "height": 255
    },
    "id": "lIqgAPpyTurZ",
    "outputId": "405d429a-8315-4f0a-eb94-f04d7af3b20d"
   },
   "outputs": [
    {
     "data": {
      "image/png": "[encoded data removed]",
      "text/plain": [
       "<Figure size 2000x200 with 1 Axes>"
      ]
     },
     "metadata": {},
     "output_type": "display_data"
    },
    {
     "name": "stdout",
     "output_type": "stream",
     "text": [
      "The predicted image label is: 6\n"
     ]
    }
   ],
   "source": [
    "act_to_pred(100)"
   ]
  },
  {
   "cell_type": "code",
   "execution_count": 29,
   "metadata": {
    "colab": {
     "base_uri": "https://localhost:8080/",
     "height": 255
    },
    "id": "fuFnwPrxTyw5",
    "outputId": "3ebe2ac4-e393-48b9-a01b-1f8cf53e8391"
   },
   "outputs": [
    {
     "data": {
      "image/png": "[encoded data removed]",
      "text/plain": [
       "<Figure size 2000x200 with 1 Axes>"
      ]
     },
     "metadata": {},
     "output_type": "display_data"
    },
    {
     "name": "stdout",
     "output_type": "stream",
     "text": [
      "The predicted image label is: 9\n"
     ]
    }
   ],
   "source": [
    "act_to_pred(5784)"
   ]
  },
  {
   "cell_type": "markdown",
   "metadata": {
    "id": "n2PMKDdKJpTD"
   },
   "source": [
    "## Conclusion:\n",
    "The CNN based model to predict the hand written digit from image has a **train accuracy of 99.02%**, **validation accuracy of 98.52%** and **test accuracy of 98.62%**."
   ]
  }
 ],
 "metadata": {
  "colab": {
   "provenance": []
  },
  "kernelspec": {
   "display_name": "Python 3 (ipykernel)",
   "language": "python",
   "name": "python3"
  },
  "language_info": {
   "codemirror_mode": {
    "name": "ipython",
    "version": 3
   },
   "file_extension": ".py",
   "mimetype": "text/x-python",
   "name": "python",
   "nbconvert_exporter": "python",
   "pygments_lexer": "ipython3",
   "version": "3.11.5"
  }
 },
 "nbformat": 4,
 "nbformat_minor": 4
}
